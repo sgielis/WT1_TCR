{
 "cells": [
  {
   "cell_type": "markdown",
   "id": "016ea10c",
   "metadata": {},
   "source": [
    "# WT1 specificity of clusters"
   ]
  },
  {
   "cell_type": "code",
   "execution_count": 1,
   "id": "002805fb",
   "metadata": {},
   "outputs": [],
   "source": [
    "# Imports\n",
    "import datetime\n",
    "import os\n",
    "import pandas as pd\n",
    "\n",
    "\n",
    "import plotnine as pn\n",
    "# Adjust the working directory\n",
    "os.chdir('path_to_your_dir')\n",
    "\n",
    "\n"
   ]
  },
  {
   "cell_type": "code",
   "execution_count": 2,
   "id": "ec160a25",
   "metadata": {},
   "outputs": [],
   "source": [
    "def split_rows(df, column, symbol):\n",
    "    \n",
    "    s = df[column].str.split(symbol, expand=True).stack()\n",
    "    i = s.index.get_level_values(0)\n",
    "    df2 = df.loc[i].copy()\n",
    "    df2[column] = s.values\n",
    "    return df2"
   ]
  },
  {
   "cell_type": "code",
   "execution_count": 3,
   "id": "a82bcdbc",
   "metadata": {},
   "outputs": [
    {
     "data": {
      "text/html": [
       "<div>\n",
       "<style scoped>\n",
       "    .dataframe tbody tr th:only-of-type {\n",
       "        vertical-align: middle;\n",
       "    }\n",
       "\n",
       "    .dataframe tbody tr th {\n",
       "        vertical-align: top;\n",
       "    }\n",
       "\n",
       "    .dataframe thead th {\n",
       "        text-align: right;\n",
       "    }\n",
       "</style>\n",
       "<table border=\"1\" class=\"dataframe\">\n",
       "  <thead>\n",
       "    <tr style=\"text-align: right;\">\n",
       "      <th></th>\n",
       "      <th>Volunteer</th>\n",
       "      <th>Response</th>\n",
       "    </tr>\n",
       "    <tr>\n",
       "      <th>CDR3_beta</th>\n",
       "      <th></th>\n",
       "      <th></th>\n",
       "    </tr>\n",
       "  </thead>\n",
       "  <tbody>\n",
       "    <tr>\n",
       "      <th>CAADRAATNEKLFF</th>\n",
       "      <td>PT2_CR2</td>\n",
       "      <td>Complete_remission</td>\n",
       "    </tr>\n",
       "    <tr>\n",
       "      <th>CAAGDRAYEQYF</th>\n",
       "      <td>PT1_CR1</td>\n",
       "      <td>Complete_remission</td>\n",
       "    </tr>\n",
       "    <tr>\n",
       "      <th>CAAGDRELEQYF</th>\n",
       "      <td>PT1_CR1</td>\n",
       "      <td>Complete_remission</td>\n",
       "    </tr>\n",
       "    <tr>\n",
       "      <th>CAAKGDSSYNEQFF</th>\n",
       "      <td>PT2_CR2</td>\n",
       "      <td>Complete_remission</td>\n",
       "    </tr>\n",
       "    <tr>\n",
       "      <th>CAAKQGRENSPLHF</th>\n",
       "      <td>PT1_CR1</td>\n",
       "      <td>Complete_remission</td>\n",
       "    </tr>\n",
       "    <tr>\n",
       "      <th>...</th>\n",
       "      <td>...</td>\n",
       "      <td>...</td>\n",
       "    </tr>\n",
       "    <tr>\n",
       "      <th>CTSSPFPLCSYNEQFF</th>\n",
       "      <td>HD3</td>\n",
       "      <td>Healthy</td>\n",
       "    </tr>\n",
       "    <tr>\n",
       "      <th>CTSSQDAHEQFF</th>\n",
       "      <td>PT6_REL3</td>\n",
       "      <td>Relapse</td>\n",
       "    </tr>\n",
       "    <tr>\n",
       "      <th>CTTAESNQPQHF</th>\n",
       "      <td>PT1_CR1</td>\n",
       "      <td>Complete_remission</td>\n",
       "    </tr>\n",
       "    <tr>\n",
       "      <th>CVSGDGSYNEQFF</th>\n",
       "      <td>PT6_REL3</td>\n",
       "      <td>Relapse</td>\n",
       "    </tr>\n",
       "    <tr>\n",
       "      <th>CVSSVAGTAEAFF</th>\n",
       "      <td>HD3</td>\n",
       "      <td>Healthy</td>\n",
       "    </tr>\n",
       "  </tbody>\n",
       "</table>\n",
       "<p>7600 rows × 2 columns</p>\n",
       "</div>"
      ],
      "text/plain": [
       "                 Volunteer            Response\n",
       "CDR3_beta                                     \n",
       "CAADRAATNEKLFF     PT2_CR2  Complete_remission\n",
       "CAAGDRAYEQYF       PT1_CR1  Complete_remission\n",
       "CAAGDRELEQYF       PT1_CR1  Complete_remission\n",
       "CAAKGDSSYNEQFF     PT2_CR2  Complete_remission\n",
       "CAAKQGRENSPLHF     PT1_CR1  Complete_remission\n",
       "...                    ...                 ...\n",
       "CTSSPFPLCSYNEQFF       HD3             Healthy\n",
       "CTSSQDAHEQFF      PT6_REL3             Relapse\n",
       "CTTAESNQPQHF       PT1_CR1  Complete_remission\n",
       "CVSGDGSYNEQFF     PT6_REL3             Relapse\n",
       "CVSSVAGTAEAFF          HD3             Healthy\n",
       "\n",
       "[7600 rows x 2 columns]"
      ]
     },
     "execution_count": 3,
     "metadata": {},
     "output_type": "execute_result"
    }
   ],
   "source": [
    "# Read data\n",
    "data = pd.read_csv('./results/wt1_visualization/PRJNA510967/All_tcrs.tsv', sep='\\t')\n",
    "\n",
    "# Group volunteers per CDR3\n",
    "data_volunteer = (data.groupby(['CDR3_beta'])['Volunteer'].apply(', '.join)\n",
    "              .reset_index().set_index(['CDR3_beta']))\n",
    "data_response = (data.groupby(['CDR3_beta'])['Response'].apply(', '.join)\n",
    "               .reset_index().set_index(['CDR3_beta']))\n",
    "grouped_data = pd.concat([data_volunteer, data_response], axis=1)\n",
    "\n",
    "grouped_data"
   ]
  },
  {
   "cell_type": "code",
   "execution_count": 4,
   "id": "da3d2396",
   "metadata": {},
   "outputs": [
    {
     "name": "stdout",
     "output_type": "stream",
     "text": [
      "38\n",
      "4\n"
     ]
    }
   ],
   "source": [
    "# Add WT1 specificity\n",
    "wt1_37 = pd.read_csv('./results/wt1_visualization/PRJNA510967/WT1_37_specific_clusters', sep='\\t')\n",
    "wt1_126 = pd.read_csv('./results/wt1_visualization/PRJNA510967/WT1_126_specific_clusters', sep='\\t')\n",
    "\n",
    "def get_response(wt1, data):\n",
    "    \n",
    "    wt1 = wt1.rename(columns={'CDR3': 'CDR3_beta'})\n",
    "    wt1 = wt1.set_index('CDR3_beta')\n",
    "    result = wt1.join(data)\n",
    "    print(result.shape[0])\n",
    "    return result\n",
    "\n",
    "result = get_response(wt1_37, grouped_data)\n",
    "result = split_rows(result,'Volunteer',',')\n",
    "result['Volunteer'] = result['Volunteer'].str.replace(' ','')\n",
    "result2 = get_response(wt1_126, grouped_data)\n",
    "results = pd.concat([result,result2])\n",
    "\n",
    "\n",
    "results = results.replace({'cluster': {8: 'A', 70: 'B', 75:'C', 113:'D', 191:'E', 239:'F', 251:'G'}})\n",
    "results.sort_values(by='cluster').to_csv('./results/wt1_visualization/PRJNA510967/specific_clusters_with_response.tsv',sep='\\t')"
   ]
  },
  {
   "cell_type": "code",
   "execution_count": 5,
   "id": "8abab91b",
   "metadata": {},
   "outputs": [],
   "source": [
    "# Count TCRs per cluster and volunteer\n",
    "results = results[['cluster', 'Volunteer','Response']]\n",
    "results = results.groupby(by=['Volunteer','cluster','Response']).size().reset_index()\n",
    "results = results.rename(columns = {0:'count'})"
   ]
  },
  {
   "cell_type": "code",
   "execution_count": 6,
   "id": "ab91e3dc",
   "metadata": {},
   "outputs": [],
   "source": [
    "# Parsing\n",
    "results.loc[results.Volunteer == 'PT1_CR1', 'Response'] = 'Complete_remission'\n",
    "results.loc[results.Volunteer == 'PT5_REL2', 'Response'] = 'Relapse'\n",
    "results.loc[results.Volunteer == 'PT6_REL3', 'Response'] = 'Relapse'\n",
    "results['Response'] = results['Response'].replace('Complete_remission','Complete remission ')\n"
   ]
  },
  {
   "cell_type": "code",
   "execution_count": 7,
   "id": "39064d23",
   "metadata": {},
   "outputs": [],
   "source": [
    "fig = (pn.ggplot(results, pn.aes('Volunteer', 'cluster', size = 'count', color='Response')) +\n",
    " pn.geom_point() +\n",
    " pn.theme_minimal() +\n",
    " pn.theme(axis_text_x=pn.element_text(rotation=90, hjust=1))+\n",
    " pn.labels.ylab(ylab = 'WT1 T cell receptor cluster')+\n",
    " #https://davidmathlogic.com/colorblind/#%23648FFF-%23DC267F-%23FFB000\n",
    " pn.scale_color_manual(['#648FFF','#DC267F','#FFB000'])+\n",
    " pn.scale_size_continuous(guide=False)\n",
    ")"
   ]
  },
  {
   "cell_type": "code",
   "execution_count": 8,
   "id": "6fef26ef",
   "metadata": {},
   "outputs": [
    {
     "data": {
      "image/png": "[encoded data removed]",
      "text/plain": [
       "<Figure size 640x480 with 1 Axes>"
      ]
     },
     "metadata": {
      "needs_background": "light"
     },
     "output_type": "display_data"
    },
    {
     "data": {
      "text/plain": [
       "<ggplot: (277751095)>"
      ]
     },
     "execution_count": 8,
     "metadata": {},
     "output_type": "execute_result"
    }
   ],
   "source": [
    "fig"
   ]
  },
  {
   "cell_type": "code",
   "execution_count": 9,
   "id": "e68510e8",
   "metadata": {},
   "outputs": [
    {
     "name": "stderr",
     "output_type": "stream",
     "text": [
      "/Users/sofiegielis/miniconda3/envs/new_cluster/lib/python3.8/site-packages/plotnine/ggplot.py:718: PlotnineWarning: Saving 6.4 x 4.8 in image.\n",
      "/Users/sofiegielis/miniconda3/envs/new_cluster/lib/python3.8/site-packages/plotnine/ggplot.py:719: PlotnineWarning: Filename: ./results/wt1_visualization/PRJNA510967/clusters.pdf\n"
     ]
    }
   ],
   "source": [
    "fig.save('./results/wt1_visualization/PRJNA510967/clusters.pdf', dpi=300)"
   ]
  },
  {
   "cell_type": "code",
   "execution_count": null,
   "id": "a246de62",
   "metadata": {},
   "outputs": [],
   "source": []
  }
 ],
 "metadata": {
  "kernelspec": {
   "display_name": "Python [conda env:new_cluster]",
   "language": "python",
   "name": "conda-env-new_cluster-py"
  },
  "language_info": {
   "codemirror_mode": {
    "name": "ipython",
    "version": 3
   },
   "file_extension": ".py",
   "mimetype": "text/x-python",
   "name": "python",
   "nbconvert_exporter": "python",
   "pygments_lexer": "ipython3",
   "version": "3.8.13"
  }
 },
 "nbformat": 4,
 "nbformat_minor": 5
}
